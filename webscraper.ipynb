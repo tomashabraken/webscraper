{
 "cells": [
  {
   "cell_type": "code",
   "execution_count": 50,
   "metadata": {},
   "outputs": [],
   "source": [
    "from bs4 import BeautifulSoup\n",
    "import pandas as pd"
   ]
  },
  {
   "cell_type": "code",
   "execution_count": 51,
   "metadata": {},
   "outputs": [
    {
     "data": {
      "text/plain": [
       "'C:\\\\Users\\\\Beheerder'"
      ]
     },
     "execution_count": 51,
     "metadata": {},
     "output_type": "execute_result"
    }
   ],
   "source": [
    "import os\n",
    "os.getcwd()"
   ]
  },
  {
   "cell_type": "code",
   "execution_count": 60,
   "metadata": {},
   "outputs": [],
   "source": [
    "with open(\"cda.html\") as f:\n",
    "    soup = BeautifulSoup(f, \"lxml\")"
   ]
  },
  {
   "cell_type": "code",
   "execution_count": 61,
   "metadata": {},
   "outputs": [],
   "source": [
    "title = soup.select(\"title\")[0].get_text()"
   ]
  },
  {
   "cell_type": "code",
   "execution_count": 62,
   "metadata": {},
   "outputs": [
    {
     "name": "stdout",
     "output_type": "stream",
     "text": [
      "MENSEN\n"
     ]
    }
   ],
   "source": [
    "print(title.upper())"
   ]
  },
  {
   "cell_type": "code",
   "execution_count": 102,
   "metadata": {},
   "outputs": [],
   "source": [
    "headings = soup.select(\"h2\")"
   ]
  },
  {
   "cell_type": "code",
   "execution_count": 103,
   "metadata": {},
   "outputs": [
    {
     "name": "stdout",
     "output_type": "stream",
     "text": [
      "CDA\n",
      "Bewindspersonen\n",
      "Tweede Kamer\n",
      "Europees Parlement\n",
      "Eerste Kamer\n",
      "Dagelijks Bestuur\n",
      "Partijbestuur\n",
      "Steun ons en doneer\n",
      "Actueel\n",
      "Leden\n",
      "Standpunten\n",
      "Contact\n",
      "Partij\n",
      "Mensen\n",
      "Landelijk/​Provinciaal\n"
     ]
    }
   ],
   "source": [
    "for heading in headings:\n",
    "    print(heading.get_text().strip())"
   ]
  },
  {
   "cell_type": "code",
   "execution_count": 88,
   "metadata": {},
   "outputs": [
    {
     "name": "stdout",
     "output_type": "stream",
     "text": [
      "Mensen\n",
      "CDA\n",
      "Bewindspersonen\n",
      "Hugo de Jonge\n",
      "Vicepremier\n",
      "Mona Keijzer\n",
      "Raymond Knops\n",
      "Ferdinand Grapperhaus\n",
      "Wopke Hoekstra\n",
      "Ank Bijleveld-Schouten\n",
      "Tweede Kamer\n",
      "Sybrand Buma\n",
      "Fractievoorzitter\n",
      "Evert-Jan Slootweg\n",
      "Lenny Geluk-Poortvliet\n",
      "Pieter Omtzigt\n",
      "Chris van Dam\n",
      "Harry van der Molen\n",
      "Anne Kuik\n",
      "Joba van den Berg-Jansen\n",
      "RenÃ© Peters\n",
      "Maurits von Martels\n",
      "Hanke Bruins Slot\n",
      "Mustafa Amhaouch\n",
      "Jaco Geurts\n",
      "Agnes Mulder\n",
      "Michel Rog\n",
      "Erik Ronnes\n",
      "Martijn van Helvert\n",
      "Madeleine van Toorenburg\n",
      "Vice-fractievoorzitter\n",
      "Pieter Heerma\n",
      "Fractiesecretaris\n",
      "Europees Parlement\n",
      "Jeroen Lenaers\n",
      "Wim van de Camp\n",
      "Esther de Lange\n",
      "Delegatieleider\n",
      "Lambert van Nistelrooij\n",
      "Annie Schreijer\n",
      "Eerste Kamer\n",
      "Elco Brinkman\n",
      "Fractievoorzitter\n",
      "Sophie van Bijsterveld\n",
      "Anne Flierman\n",
      "Ria Oomen-Ruijten\n",
      "Marnix van Rij\n",
      "Ton Rombouts\n",
      "Ben Knapen\n",
      "Maria Martens\n",
      "Fractiesecretaris\n",
      "Greetje de Vries-Leggedoor\n",
      "Niek Jan van Kesteren\n",
      "Vicevoorzitter\n",
      "Joop Atsma\n",
      "Penningmeester\n",
      "Pia Lokin-Sassen\n",
      "Dagelijks Bestuur\n",
      "Ruth Peetoom\n",
      "Partijvoorzitter\n",
      "Frank  Kerckhaert\n",
      "Vicevoorzitter\n",
      "Rutger Ploum\n",
      "Secretaris\n",
      "Bart van Meijl\n",
      "Penningmeester\n",
      "Pieter-Jan van Zanten\n",
      "DB-lid Ledenwerving\n",
      "Rianne  Donders-de Leest\n",
      "DB-lid Communicatie\n",
      "Sebastiaan den Bak\n",
      "DB-lid Internationale Zaken\n",
      "Partijbestuur\n",
      "Ruth Peetoom\n",
      "Partijvoorzitter\n",
      "Frank  Kerckhaert\n",
      "Vicevoorzitter\n",
      "Rutger Ploum\n",
      "Secretaris\n",
      "Bart van Meijl\n",
      "Penningmeester\n",
      "Pieter-Jan van Zanten\n",
      "DB-lid Ledenwerving\n",
      "Rianne  Donders-de Leest\n",
      "DB-lid Communicatie\n",
      "Wim Faber\n",
      "Flevoland\n",
      "Victor Slenter\n",
      "Zeeland\n",
      "Relus Breeuwsma\n",
      "Zuid-Holland\n",
      "Theo Joosten\n",
      "FryslÃ¢n\n",
      "Gido Oudekotte\n",
      "Noord-Holland\n",
      "Harold Schroeder\n",
      "Limburg\n",
      "Paul van den Biggelaar\n",
      "Inge van Dijk\n",
      "Maarten Westerduin\n",
      "Robert Kleine\n",
      "Gert Brouwer\n",
      "Vacant\n",
      "Janny Bakker\n",
      "Alwyn de Jong\n",
      "Reginald Visser\n",
      "Theo Koekkoek\n",
      "Lotte Schipper\n",
      "Voorzitter CDJA\n",
      "Josine Westerbeek\n",
      "Voorzitter CDAV\n",
      "John Berends\n",
      "Voorzitter BSV\n",
      "Pieter Jan Dijkman\n",
      "Directeur WI\n",
      "Sybrand Buma\n",
      "Fractievoorzitter Tweede Kamer\n",
      "Elco Brinkman\n",
      "Fractievoorzitter Eerste Kamer\n",
      "Esther de Lange\n",
      "Delegatieleider\n",
      "Hilde Westera\n",
      "Directeur partijbureau\n",
      "Blijf op de hoogte!\n",
      "Landelijk/​Provinciaal\n"
     ]
    }
   ],
   "source": [
    "name_members = soup.findAll(\"span\", {\"class\": \"paddedText-text\"})\n",
    "for name in name_members:\n",
    "    print(name.get_text().strip())"
   ]
  },
  {
   "cell_type": "code",
   "execution_count": null,
   "metadata": {},
   "outputs": [],
   "source": []
  },
  {
   "cell_type": "code",
   "execution_count": null,
   "metadata": {},
   "outputs": [],
   "source": []
  },
  {
   "cell_type": "code",
   "execution_count": null,
   "metadata": {},
   "outputs": [],
   "source": []
  }
 ],
 "metadata": {
  "kernelspec": {
   "display_name": "Python 3",
   "language": "python",
   "name": "python3"
  },
  "language_info": {
   "codemirror_mode": {
    "name": "ipython",
    "version": 3
   },
   "file_extension": ".py",
   "mimetype": "text/x-python",
   "name": "python",
   "nbconvert_exporter": "python",
   "pygments_lexer": "ipython3",
   "version": "3.6.5"
  }
 },
 "nbformat": 4,
 "nbformat_minor": 2
}
